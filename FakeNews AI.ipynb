{
 "cells": [
  {
   "cell_type": "code",
   "execution_count": 3,
   "metadata": {
    "collapsed": false
   },
   "outputs": [],
   "source": [
    "import pandas as pd\n",
    "\n",
    "dfData = pd.read_pickle('final_data.pkl')"
   ]
  },
  {
   "cell_type": "code",
   "execution_count": 23,
   "metadata": {
    "collapsed": false
   },
   "outputs": [
    {
     "data": {
      "text/html": [
       "<div>\n",
       "<table border=\"1\" class=\"dataframe\">\n",
       "  <thead>\n",
       "    <tr style=\"text-align: right;\">\n",
       "      <th></th>\n",
       "      <th>True</th>\n",
       "      <th>body_char_per_word</th>\n",
       "      <th>body_length</th>\n",
       "      <th>body_puncuation</th>\n",
       "      <th>body_sentiment_neu</th>\n",
       "      <th>body_sentiment_pos</th>\n",
       "      <th>body_statistic_ratio</th>\n",
       "      <th>body_vocab_rate</th>\n",
       "      <th>body_word_per_sent</th>\n",
       "      <th>resource</th>\n",
       "      <th>title_compounds</th>\n",
       "      <th>title_length</th>\n",
       "      <th>title_puncuation</th>\n",
       "      <th>title_sentiment_neu</th>\n",
       "      <th>title_sentiment_pos</th>\n",
       "    </tr>\n",
       "  </thead>\n",
       "  <tbody>\n",
       "    <tr>\n",
       "      <th>84</th>\n",
       "      <td>0</td>\n",
       "      <td>6</td>\n",
       "      <td>2474</td>\n",
       "      <td>0.081649</td>\n",
       "      <td>0.816</td>\n",
       "      <td>0.109</td>\n",
       "      <td>0.004184</td>\n",
       "      <td>0.356790</td>\n",
       "      <td>93</td>\n",
       "      <td>21wire</td>\n",
       "      <td>{'NNP': 0.6363636363636364, 'CC': 0.0909090909...</td>\n",
       "      <td>11</td>\n",
       "      <td>0.000000</td>\n",
       "      <td>1.000</td>\n",
       "      <td>0.0</td>\n",
       "    </tr>\n",
       "    <tr>\n",
       "      <th>85</th>\n",
       "      <td>0</td>\n",
       "      <td>5</td>\n",
       "      <td>287</td>\n",
       "      <td>0.101045</td>\n",
       "      <td>0.870</td>\n",
       "      <td>0.103</td>\n",
       "      <td>0.033233</td>\n",
       "      <td>0.622356</td>\n",
       "      <td>47</td>\n",
       "      <td>21wire</td>\n",
       "      <td>{'NNP': 0.8, 'IN': 0.13333333333333333, 'NNS':...</td>\n",
       "      <td>15</td>\n",
       "      <td>0.066667</td>\n",
       "      <td>1.000</td>\n",
       "      <td>0.0</td>\n",
       "    </tr>\n",
       "    <tr>\n",
       "      <th>86</th>\n",
       "      <td>0</td>\n",
       "      <td>6</td>\n",
       "      <td>192</td>\n",
       "      <td>0.046875</td>\n",
       "      <td>0.911</td>\n",
       "      <td>0.029</td>\n",
       "      <td>0.069652</td>\n",
       "      <td>0.681592</td>\n",
       "      <td>40</td>\n",
       "      <td>Vanessa Beeley</td>\n",
       "      <td>{'NNP': 0.6666666666666666, 'DT': 0.1333333333...</td>\n",
       "      <td>15</td>\n",
       "      <td>0.133333</td>\n",
       "      <td>0.859</td>\n",
       "      <td>0.0</td>\n",
       "    </tr>\n",
       "    <tr>\n",
       "      <th>87</th>\n",
       "      <td>0</td>\n",
       "      <td>5</td>\n",
       "      <td>306</td>\n",
       "      <td>0.120915</td>\n",
       "      <td>0.878</td>\n",
       "      <td>0.082</td>\n",
       "      <td>0.033803</td>\n",
       "      <td>0.605634</td>\n",
       "      <td>44</td>\n",
       "      <td>21wire</td>\n",
       "      <td>{'NNP': 0.8666666666666667, 'JJS': 0.066666666...</td>\n",
       "      <td>15</td>\n",
       "      <td>0.133333</td>\n",
       "      <td>1.000</td>\n",
       "      <td>0.0</td>\n",
       "    </tr>\n",
       "    <tr>\n",
       "      <th>88</th>\n",
       "      <td>0</td>\n",
       "      <td>6</td>\n",
       "      <td>615</td>\n",
       "      <td>0.100813</td>\n",
       "      <td>0.855</td>\n",
       "      <td>0.092</td>\n",
       "      <td>0.013616</td>\n",
       "      <td>0.599092</td>\n",
       "      <td>66</td>\n",
       "      <td>21wire</td>\n",
       "      <td>{'NNP': 0.6666666666666666, 'RB': 0.1666666666...</td>\n",
       "      <td>6</td>\n",
       "      <td>0.166667</td>\n",
       "      <td>0.595</td>\n",
       "      <td>0.0</td>\n",
       "    </tr>\n",
       "  </tbody>\n",
       "</table>\n",
       "</div>"
      ],
      "text/plain": [
       "    True  body_char_per_word  body_length  body_puncuation  \\\n",
       "84     0                   6         2474         0.081649   \n",
       "85     0                   5          287         0.101045   \n",
       "86     0                   6          192         0.046875   \n",
       "87     0                   5          306         0.120915   \n",
       "88     0                   6          615         0.100813   \n",
       "\n",
       "    body_sentiment_neu  body_sentiment_pos  body_statistic_ratio  \\\n",
       "84               0.816               0.109              0.004184   \n",
       "85               0.870               0.103              0.033233   \n",
       "86               0.911               0.029              0.069652   \n",
       "87               0.878               0.082              0.033803   \n",
       "88               0.855               0.092              0.013616   \n",
       "\n",
       "    body_vocab_rate  body_word_per_sent        resource  \\\n",
       "84         0.356790                  93          21wire   \n",
       "85         0.622356                  47          21wire   \n",
       "86         0.681592                  40  Vanessa Beeley   \n",
       "87         0.605634                  44          21wire   \n",
       "88         0.599092                  66          21wire   \n",
       "\n",
       "                                      title_compounds  title_length  \\\n",
       "84  {'NNP': 0.6363636363636364, 'CC': 0.0909090909...            11   \n",
       "85  {'NNP': 0.8, 'IN': 0.13333333333333333, 'NNS':...            15   \n",
       "86  {'NNP': 0.6666666666666666, 'DT': 0.1333333333...            15   \n",
       "87  {'NNP': 0.8666666666666667, 'JJS': 0.066666666...            15   \n",
       "88  {'NNP': 0.6666666666666666, 'RB': 0.1666666666...             6   \n",
       "\n",
       "    title_puncuation  title_sentiment_neu  title_sentiment_pos  \n",
       "84          0.000000                1.000                  0.0  \n",
       "85          0.066667                1.000                  0.0  \n",
       "86          0.133333                0.859                  0.0  \n",
       "87          0.133333                1.000                  0.0  \n",
       "88          0.166667                0.595                  0.0  "
      ]
     },
     "execution_count": 23,
     "metadata": {},
     "output_type": "execute_result"
    }
   ],
   "source": [
    "dfData[84:].head()"
   ]
  },
  {
   "cell_type": "code",
   "execution_count": 66,
   "metadata": {
    "collapsed": false
   },
   "outputs": [
    {
     "name": "stdout",
     "output_type": "stream",
     "text": [
      "(772, 15)\n",
      "425\n",
      "[[0.08164915117219078 0.816 0.109 ..., 0.0 1.0 0.0]\n",
      " [0.10104529616724739 0.87 0.103 ..., 0.06666666666666667 1.0 0.0]\n",
      " [0.046875 0.911 0.029 ..., 0.13333333333333333 0.859 0.0]\n",
      " ..., \n",
      " [0.11834862385321102 0.796 0.156 ..., 0.3333333333333333 1.0 0.0]\n",
      " [0.1261335531739489 0.826 0.131 ..., 0.14285714285714285 1.0 0.0]\n",
      " [0.14732142857142858 0.83 0.125 ..., 0.2222222222222222 0.769 0.231]]\n"
     ]
    }
   ],
   "source": [
    "import numpy as np\n",
    "\n",
    "D = np.array(dfData[84:])\n",
    "print(np.shape(D))\n",
    "# Labels\n",
    "Y = np.array([x[0] for x in D])\n",
    "print(sum(Y))\n",
    "X1 = D[:,3:9]\n",
    "X2 = D[:,-4:]\n",
    "# Features\n",
    "X = np.concatenate((X1,X2),axis=1)\n",
    "print(X)"
   ]
  },
  {
   "cell_type": "code",
   "execution_count": 69,
   "metadata": {
    "collapsed": false
   },
   "outputs": [
    {
     "name": "stdout",
     "output_type": "stream",
     "text": [
      "[[ 299.   48.]\n",
      " [  16.  409.]]\n"
     ]
    }
   ],
   "source": [
    "from sklearn import svm\n",
    "from sklearn.model_selection import StratifiedKFold\n",
    "from sklearn.metrics import confusion_matrix\n",
    "\n",
    "skf = StratifiedKFold(n_splits=10, random_state=None, shuffle=True)\n",
    "\n",
    "C = np.zeros([2,2])\n",
    "\n",
    "for train_index, test_index in skf.split(X, Y):\n",
    "    X_train, X_test = X[train_index], X[test_index]\n",
    "    Y_train, Y_test = Y[train_index], Y[test_index]\n",
    "    \n",
    "    # Train classifier\n",
    "    clf = svm.SVC()\n",
    "    clf.fit(X_train, Y_train)  \n",
    "    #SVC(C=1.0, cache_size=200, class_weight=None, coef0=0.0,\n",
    "    #decision_function_shape=None, degree=3, gamma='auto', kernel='rbf',\n",
    "    #max_iter=-1, probability=False, random_state=None, shrinking=True,\n",
    "    #tol=0.001, verbose=True)\n",
    "    \n",
    "    Y_pred = clf.predict(X_test)\n",
    "    \n",
    "    C += confusion_matrix(Y_test,Y_pred)\n",
    "print(C)  "
   ]
  },
  {
   "cell_type": "code",
   "execution_count": 68,
   "metadata": {
    "collapsed": false
   },
   "outputs": [
    {
     "data": {
      "text/plain": [
       "0.92098445595854928"
      ]
     },
     "execution_count": 68,
     "metadata": {},
     "output_type": "execute_result"
    }
   ],
   "source": [
    "sum(np.diag(C))/(sum(sum(C)))"
   ]
  },
  {
   "cell_type": "code",
   "execution_count": null,
   "metadata": {
    "collapsed": true
   },
   "outputs": [],
   "source": []
  }
 ],
 "metadata": {
  "kernelspec": {
   "display_name": "Python [python3]",
   "language": "python",
   "name": "Python [python3]"
  },
  "language_info": {
   "codemirror_mode": {
    "name": "ipython",
    "version": 3
   },
   "file_extension": ".py",
   "mimetype": "text/x-python",
   "name": "python",
   "nbconvert_exporter": "python",
   "pygments_lexer": "ipython3",
   "version": "3.5.2"
  }
 },
 "nbformat": 4,
 "nbformat_minor": 0
}
