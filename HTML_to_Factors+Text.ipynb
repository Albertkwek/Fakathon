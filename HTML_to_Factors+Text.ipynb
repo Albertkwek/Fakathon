{
 "cells": [
  {
   "cell_type": "code",
   "execution_count": 16,
   "metadata": {
    "collapsed": false
   },
   "outputs": [
    {
     "name": "stdout",
     "output_type": "stream",
     "text": [
      "<span class=\"byline-author \" data-byline-name=\"Ginia Bellafante\" itemprop=\"name\">GINIA BELLAFANTE</span>\n"
     ]
    }
   ],
   "source": [
    "import requests\n",
    "from bs4 import BeautifulSoup\n",
    "url = \"https://www.nytimes.com/2017/02/03/nyregion/kirsten-gillibrand-anti-trump-left.html?hp&action=click&pgtype=Homepage&clickSource=story-heading&module=b-lede-package-region&region=top-news&WT.nav=top-news\"\n",
    "response = requests.get(url)\n",
    "if response.status_code == 200:\n",
    "    #print(response.content)\n",
    "    page_data_soup = BeautifulSoup(response.content,'lxml')\n",
    "#     print(page_data_soup.prettify())\n",
    "    author_name = page_data_soup.find('span', class_='byline-author')\n",
    "    print(author_name)\n",
    "    num_links = len(page_data_soup.find_all('a', href=True))\n",
    "    \n",
    "    for tag in page_data_soup.find_all('i', class_=\"icon\"):\n",
    "        print(tag)\n",
    "    \n",
    "    \n",
    "    # of comments → find <span class=\"count\">401</span>"
   ]
  }
 ],
 "metadata": {
  "anaconda-cloud": {},
  "kernelspec": {
   "display_name": "Python [conda root]",
   "language": "python",
   "name": "conda-root-py"
  },
  "language_info": {
   "codemirror_mode": {
    "name": "ipython",
    "version": 3
   },
   "file_extension": ".py",
   "mimetype": "text/x-python",
   "name": "python",
   "nbconvert_exporter": "python",
   "pygments_lexer": "ipython3",
   "version": "3.5.2"
  }
 },
 "nbformat": 4,
 "nbformat_minor": 1
}
