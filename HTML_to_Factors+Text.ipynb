{
 "cells": [
  {
   "cell_type": "code",
   "execution_count": null,
   "metadata": {
    "collapsed": true
   },
   "outputs": [],
   "source": [
    "def html_to_factors_nytimes(url):\n",
    "    \"\"\"\n",
    "    Given a url, this function returns a dictionary which contains the name of the author, \n",
    "    number of links on the website, the headline and the body.\n",
    "    \"\"\"\n",
    "    import requests\n",
    "    from bs4 import BeautifulSoup\n",
    "    \n",
    "    response = requests.get(url)\n",
    "    if response.status_code == 200:\n",
    "        page_data_soup = BeautifulSoup(response.content,'lxml')\n",
    "        author_name = page_data_soup.find('span', class_='byline-author')\n",
    "        num_links = len(page_data_soup.find_all('a', href=True))\n",
    "        headline = page_data_soup.find('h1', itemprop=\"headline\")\n",
    "        len_headline = len(headline)\n",
    "        body = ''\n",
    "        for tag in page_data_soup.find_all('p', class_='story-body-text story-content'):\n",
    "            body += tag.text\n",
    "        dict_solution = {'author_name':author_name, \"num_links\":num_links, \"headline\":headline,\"body\":body}\n",
    "        return dict_solution"
   ]
  },
  {
   "cell_type": "code",
   "execution_count": null,
   "metadata": {
    "collapsed": true
   },
   "outputs": [],
   "source": [
    "url = \"https://www.nytimes.com/2017/02/03/nyregion/kirsten-gillibrand-anti-trump-left.html?hp&action=click&pgtype=Homepage&clickSource=story-heading&module=b-lede-package-region&region=top-news&WT.nav=top-news\""
   ]
  },
  {
   "cell_type": "code",
   "execution_count": null,
   "metadata": {
    "collapsed": true
   },
   "outputs": [],
   "source": []
  }
 ],
 "metadata": {
  "anaconda-cloud": {},
  "kernelspec": {
   "display_name": "Python [conda root]",
   "language": "python",
   "name": "conda-root-py"
  },
  "language_info": {
   "codemirror_mode": {
    "name": "ipython",
    "version": 3
   },
   "file_extension": ".py",
   "mimetype": "text/x-python",
   "name": "python",
   "nbconvert_exporter": "python",
   "pygments_lexer": "ipython3",
   "version": "3.5.2"
  }
 },
 "nbformat": 4,
 "nbformat_minor": 1
}
